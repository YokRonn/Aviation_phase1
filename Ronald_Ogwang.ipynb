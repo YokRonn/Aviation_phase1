{
 "cells": [
  {
   "cell_type": "code",
   "execution_count": 1,
   "metadata": {},
   "outputs": [],
   "source": [
    "#modules to be used while manipulating the dataset\n",
    "import pandas as pd\n",
    "import seaborn as sns\n",
    "import matplotlib.pyplot as plt"
   ]
  },
  {
   "cell_type": "code",
   "execution_count": null,
   "metadata": {},
   "outputs": [],
   "source": [
    "#Load the AviationData.csv file using pandas\n",
    "Aviation_data = pd.read_csv('AviationData.csv', encoding='cp1252')"
   ]
  },
  {
   "cell_type": "code",
   "execution_count": null,
   "metadata": {},
   "outputs": [],
   "source": [
    "#An over view of the structure of the AviationData \n",
    "Aviation_data.info(), Aviation_data.head(), Aviation_data.describe()"
   ]
  },
  {
   "cell_type": "markdown",
   "metadata": {},
   "source": [
    "# The company is interested in purcahsing and operating airplanes for commercial and private enterprises. We need to filter the Aircraft category to specifically Airplanes."
   ]
  },
  {
   "cell_type": "code",
   "execution_count": null,
   "metadata": {},
   "outputs": [],
   "source": [
    "#Check to see the different Aircrafts in the Aircraft Category column\n",
    "Aviation_data['Aircraft.Category'].unique()"
   ]
  },
  {
   "cell_type": "markdown",
   "metadata": {},
   "source": [
    "### GOAL: To find the Lowest risk aircraft models that would minimize the potential for severe accidents, injuries and damage\n",
    "\n",
    "To determine risk associated with Airplanes, columns such as Injury.Severity, Aircraft.Damage, Make, Model, Weather.Condition, and Broad.phase.of.flight, Total.Injuries are crucial for determining risks associated with aircraft."
   ]
  },
  {
   "cell_type": "code",
   "execution_count": 5,
   "metadata": {},
   "outputs": [],
   "source": [
    "#Filter the dataset to only include rows where Aircraft category is Airplane and Investigation Type is Accidents that have occured and the plane should not be built by amateur\n",
    "Airplane_Data = Aviation_data[(Aviation_data['Aircraft.Category']=='Airplane') & (Aviation_data['Investigation.Type']=='Accident') & (Aviation_data['Amateur.Built']=='No')]"
   ]
  },
  {
   "cell_type": "markdown",
   "metadata": {},
   "source": [
    "# Airplane Data Cleanup"
   ]
  },
  {
   "cell_type": "code",
   "execution_count": null,
   "metadata": {},
   "outputs": [],
   "source": [
    "#Missing values in injury columns with 0\n",
    "Airplane_Data['Total.Fatal.Injuries'] = Airplane_Data['Total.Fatal.Injuries'].fillna(0)\n",
    "Airplane_Data['Total.Serious.Injuries'] = Airplane_Data['Total.Serious.Injuries'].fillna(0)\n",
    "Airplane_Data['Total.Minor.Injuries'] = Airplane_Data['Total.Minor.Injuries'].fillna(0)\n",
    "Airplane_Data['Total.Uninjured'] = Airplane_Data['Total.Uninjured'].fillna(0)"
   ]
  },
  {
   "cell_type": "code",
   "execution_count": null,
   "metadata": {},
   "outputs": [],
   "source": [
    "#Missing values in Aircraft.damage column with Unknown\n",
    "Airplane_Data['Aircraft.damage'] = Airplane_Data['Aircraft.damage'].fillna('Unknown')\n",
    "Airplane_Data['Purpose.of.flight'] = Airplane_Data['Purpose.of.flight'].fillna('Unknown')\n",
    "Airplane_Data['Amateur.Built'] = Airplane_Data['Amateur.Built'].fillna('Unknown')\n",
    "\n",
    "Airplane_Data['Weather.Condition'] = Airplane_Data['Weather.Condition'].str.upper()\n",
    "\n",
    "Airplane_Data['Weather.Condition'] = Airplane_Data[\"Weather.Condition\"].fillna('Uknown')\n"
   ]
  },
  {
   "cell_type": "code",
   "execution_count": null,
   "metadata": {},
   "outputs": [],
   "source": [
    "#Standardize naming format of the Airplane Make column\n",
    "Airplane_Data['Make'] = Airplane_Data['Make'].str.title()\n",
    "Airplane_Data[['Make']]"
   ]
  },
  {
   "cell_type": "markdown",
   "metadata": {},
   "source": [
    "EDA - Uninjured Analysis by Airplane Model and Make. (Make means Manufacturer and Model is the Airplane Model or version)\n"
   ]
  },
  {
   "cell_type": "code",
   "execution_count": 9,
   "metadata": {},
   "outputs": [],
   "source": [
    "#Group the data by Aircraft \"Model\" and summarize total number of fatal, serious, minor injuries and Uninjured when the Aircraft.damage was destroyed\n",
    "\n",
    "Airplane_Damage_Summary = Airplane_Data.groupby('Model').agg(\n",
    "    total_fatal_injuries=('Total.Fatal.Injuries', 'sum'),\n",
    "    total_serious_injuries=('Total.Serious.Injuries', 'sum'),\n",
    "    total_minor_injuries=('Total.Minor.Injuries', 'sum'),\n",
    "    total_uninjured=('Total.Uninjured', 'sum'),\n",
    "    total_events=('Model', 'count'),  # Total number of events per model\n",
    "    aircraft_destroyed=('Aircraft.damage', lambda x: (x == 'Destroyed').sum())  \n",
    ").reset_index()\n",
    "\n",
    "\n"
   ]
  },
  {
   "cell_type": "markdown",
   "metadata": {},
   "source": [
    "Compute the Rate of Injuries to assess risk for each Aircraft model. This will enable guide to understand the % of accidents that result in injuries or Uninjured"
   ]
  },
  {
   "cell_type": "code",
   "execution_count": 10,
   "metadata": {},
   "outputs": [],
   "source": [
    "Airplane_Damage_Summary['Rate_fatal_injury'] = Airplane_Damage_Summary['total_fatal_injuries'] / Airplane_Damage_Summary['total_events']\n",
    "Airplane_Damage_Summary['Rate_serious_injury'] = Airplane_Damage_Summary['total_serious_injuries'] / Airplane_Damage_Summary['total_events']\n",
    "Airplane_Damage_Summary['Rate_minor_injury'] = Airplane_Damage_Summary['total_minor_injuries'] / Airplane_Damage_Summary['total_events']\n",
    "Airplane_Damage_Summary['Rate_Uninjured'] = Airplane_Damage_Summary['total_uninjured'] / Airplane_Damage_Summary['total_events']\n",
    "\n"
   ]
  },
  {
   "cell_type": "code",
   "execution_count": 11,
   "metadata": {},
   "outputs": [],
   "source": [
    "#Save Airplane_Damage_Summary to excel for visualization in Tableau\n",
    "Airplane_Damage_Summary.to_excel(\"Airplane_Injuries_Model.xlsx\", index=False)"
   ]
  },
  {
   "cell_type": "code",
   "execution_count": 12,
   "metadata": {},
   "outputs": [],
   "source": [
    "# Sort by the highest Rate_Uninjury\n",
    "Airplane_Damage_Summary_sorted = Airplane_Damage_Summary.sort_values(by='Rate_Uninjured', ascending=False)"
   ]
  },
  {
   "cell_type": "code",
   "execution_count": null,
   "metadata": {},
   "outputs": [],
   "source": [
    "#Plot Models trends with Uninjured Passengers\n",
    "top_10_models_Uninjured = Airplane_Damage_Summary_sorted.head(10)\n",
    "sns.barplot(x='Rate_Uninjured', y='Model', data=top_10_models_Uninjured)\n",
    "plt.title('Rate of Uninjured Passengers by Model')\n",
    "plt.show()"
   ]
  },
  {
   "cell_type": "markdown",
   "metadata": {},
   "source": [
    "Based on theh observations above, The MD 83 is the safest Airplane considering that it has the highest Uninjured rate. \n",
    "However, this view does not tell the complete story as it only appeared in 1 Event and 512 passengers were uninjured.\n",
    "\n",
    "A better way would be to add a column called Decade and consider the number of uninjured passengers grouped by Airplane Make and Model. This way it becomes easier to tell the uninjured passengers over the decades for all accident events."
   ]
  },
  {
   "cell_type": "code",
   "execution_count": null,
   "metadata": {},
   "outputs": [],
   "source": [
    "#Creating a frequency sort of range for years in decades, a new column for the decade range, e.g \"1974-1983\"\n",
    "\n",
    "Airplane_Data['Event.Date'] = pd.to_datetime(Airplane_Data['Event.Date'])\n",
    "\n",
    "\n",
    "#Function to create the Decade range\n",
    "def decade_range(year):\n",
    "    lower = (year // 10) * 10 + 4  # The start of the range (e.g., 1974, 1984)\n",
    "    upper = lower + 9  # The end of the range (e.g., 1983, 1993)\n",
    "    return f\"{lower}-{upper}\"\n",
    "\n",
    "#Creating new column named Decade Range\n",
    "Airplane_Data['Decade Range'] = Airplane_Data['Event.Date'].dt.year.apply(decade_range)"
   ]
  },
  {
   "cell_type": "code",
   "execution_count": null,
   "metadata": {},
   "outputs": [],
   "source": [
    "#Generate a bar graph to show the Top 10 Aircraft Models with Highest Uninjured and damage \n",
    "Uninjured_by_model = Airplane_Data.groupby(['Model', 'Decade Range'])['Total.Uninjured'].sum().reset_index()\n",
    "\n",
    "\n",
    "top_15_Uninjured_models = Uninjured_by_model.groupby('Model')['Total.Uninjured'].sum().nlargest(15).reset_index()\n",
    "\n",
    "top_15_Uninjured_models_sorted = top_15_Uninjured_models.sort_values(by='Total.Uninjured', ascending=False)\n",
    "\n",
    "top_15_Uninjured_data = Uninjured_by_model[Uninjured_by_model['Model'].isin(top_15_Uninjured_models_sorted['Model'])]\n",
    "\n",
    "\n",
    "plt.figure(figsize=(12, 6))\n",
    "sns.barplot(x='Total.Uninjured', y='Model', hue='Decade Range', data=top_15_Uninjured_data, palette='Reds_d')\n",
    "plt.title('Top 10 Aircraft Models with Highest Uninjured Over the Years')\n",
    "plt.xlabel('Total Uninjured')\n",
    "plt.ylabel('Aircraft Model')\n",
    "plt.legend(title='Decade Range', bbox_to_anchor=(1.05, 1), loc='upper left')\n",
    "plt.tight_layout()\n",
    "plt.show()"
   ]
  },
  {
   "cell_type": "code",
   "execution_count": null,
   "metadata": {},
   "outputs": [],
   "source": [
    "#Determin the number of times each Airplane model appeared in a Airplane accident and the total of uninjured\n",
    "\n",
    "Airplane_UninjuredSummary_Model = Airplane_Data.groupby('Model').agg(\n",
    "    total_uninjured_model = ('Total.Uninjured', 'sum'),\n",
    "    total_Events_model = ('Total.Uninjured', 'count')).reset_index()\n",
    "\n",
    "\n",
    "Airplane_UninjuredSummary_Model_sorted = Airplane_UninjuredSummary_Model.sort_values(by='total_uninjured_model', ascending=False)\n",
    "Airplane_UninjuredSummary_Model_sorted.head(15)"
   ]
  },
  {
   "cell_type": "markdown",
   "metadata": {},
   "source": [
    "The above details shows the top 15 safest Airplane models. The Airplane 737 can be considered the safest based on the number of Uninjured passengers in all the Accident Events it was involved in."
   ]
  },
  {
   "cell_type": "code",
   "execution_count": null,
   "metadata": {},
   "outputs": [],
   "source": [
    "#Generate a bar graph to show the Top 10 Aircraft Makes with Highest Uninjured and damage \n",
    "\n",
    "Uninjured_by_Make = Airplane_Data.groupby(['Make', 'Decade Range'])['Total.Uninjured'].sum().reset_index()\n",
    "\n",
    "\n",
    "top_10_Uninjured_Make = Uninjured_by_Make.groupby('Make')['Total.Uninjured'].sum().nlargest(10).reset_index()\n",
    "\n",
    "\n",
    "top_10_Uninjured_Make_data = Uninjured_by_Make[Uninjured_by_Make['Make'].isin(top_10_Uninjured_Make['Make'])]\n",
    "\n",
    "\n",
    "plt.figure(figsize=(12, 6))\n",
    "sns.barplot(x='Total.Uninjured', y='Make', hue='Decade Range', data=top_10_Uninjured_Make_data, palette='Blues_d')\n",
    "plt.title('Top 10 Aircraft Models with Highest Uninjured Over the Years')\n",
    "plt.xlabel('Total Uninjured')\n",
    "plt.ylabel('Aircraft Make')\n",
    "plt.legend(title='Decade Range', bbox_to_anchor=(1.05, 1), loc='upper left')\n",
    "plt.tight_layout()\n",
    "plt.show()\n"
   ]
  },
  {
   "cell_type": "markdown",
   "metadata": {},
   "source": [
    "#### Boeing is the manufacturer of of airplanes with that have the largest number of uninjured passengers."
   ]
  },
  {
   "cell_type": "code",
   "execution_count": null,
   "metadata": {},
   "outputs": [],
   "source": [
    "#Add a column called Event.Year in our dataframe\n",
    "Airplane_Data['Event.Year'] = Airplane_Data['Event.Date'].dt.year\n",
    "\n",
    "#Calculate Total Accidents, Fatal Accidents and Aircraft.damage = Destroyed\n",
    "Accident_Rates_Year = Airplane_Data.groupby('Event.Year').agg(\n",
    "    Total_Accidents = ('Accident.Number', 'count'),\n",
    "    Fatal_Accidents = ('Total.Fatal.Injuries', lambda x: (x > 0).sum()),\n",
    "    Airplane_Loss_Accidents = ('Total.Fatal.Injuries', lambda x: (x == 'Destroyed').sum())\n",
    ").reset_index()\n",
    "\n",
    "#Add the column for the rates\n",
    "Accident_Rates_Year['Fatal_Accident_Rate'] = (Accident_Rates_Year['Fatal_Accidents']/Accident_Rates_Year['Total_Accidents']) * 100\n",
    "Accident_Rates_Year['Airplane_Loss_Accidents_Rate'] = (Accident_Rates_Year['Airplane_Loss_Accidents']/Accident_Rates_Year['Total_Accidents']) * 100\n",
    "\n",
    "Accident_Rates_Year"
   ]
  },
  {
   "cell_type": "code",
   "execution_count": 19,
   "metadata": {},
   "outputs": [],
   "source": [
    "#Save the Rate of Injuries by Year into a CSV named Accident_Rates_Year for visualization in Tableau\n",
    "Accident_Rates_Year.to_excel('Accident_Rates_Year.xlsx', index=False)"
   ]
  },
  {
   "cell_type": "code",
   "execution_count": null,
   "metadata": {},
   "outputs": [],
   "source": [
    "Airplane_Data"
   ]
  },
  {
   "cell_type": "code",
   "execution_count": 21,
   "metadata": {},
   "outputs": [],
   "source": [
    "#Clean Airplane_Clean_Data\n",
    "Airplane_CleanData = Airplane_Data.drop(columns=['Location', 'Country','Latitude','Longitude','Airport.Code','Airport.Name','Injury.Severity','Registration.Number','Number.of.Engines','Engine.Type',\n",
    "                                         'FAR.Description','Schedule','Air.carrier','Report.Status','Publication.Date'])\n"
   ]
  },
  {
   "cell_type": "code",
   "execution_count": 22,
   "metadata": {},
   "outputs": [],
   "source": [
    "Airplane_CleanData.to_excel(\"Aviation_CleanData.xlsx\", index=False)"
   ]
  },
  {
   "cell_type": "code",
   "execution_count": null,
   "metadata": {},
   "outputs": [],
   "source": []
  }
 ],
 "metadata": {
  "kernelspec": {
   "display_name": "learn-env",
   "language": "python",
   "name": "python3"
  },
  "language_info": {
   "codemirror_mode": {
    "name": "ipython",
    "version": 3
   },
   "file_extension": ".py",
   "mimetype": "text/x-python",
   "name": "python",
   "nbconvert_exporter": "python",
   "pygments_lexer": "ipython3",
   "version": "3.8.5"
  }
 },
 "nbformat": 4,
 "nbformat_minor": 2
}
